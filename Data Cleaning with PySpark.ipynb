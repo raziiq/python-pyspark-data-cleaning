{
 "cells": [
  {
   "cell_type": "markdown",
   "metadata": {},
   "source": [
    "<H3>Importing Required Libraries"
   ]
  },
  {
   "cell_type": "code",
   "execution_count": 1,
   "metadata": {},
   "outputs": [],
   "source": [
    "from pyspark.sql import SparkSession\n",
    "from pyspark.sql import functions as F\n"
   ]
  },
  {
   "cell_type": "markdown",
   "metadata": {},
   "source": [
    "<H3>Getting Spark Session"
   ]
  },
  {
   "cell_type": "code",
   "execution_count": 2,
   "metadata": {},
   "outputs": [],
   "source": [
    "spark = SparkSession.builder.getOrCreate()"
   ]
  },
  {
   "cell_type": "markdown",
   "metadata": {},
   "source": [
    "<H3>Reading CSV"
   ]
  },
  {
   "cell_type": "code",
   "execution_count": 3,
   "metadata": {},
   "outputs": [],
   "source": [
    "df = spark.read.csv(\"Big_Cities_Health_Data_Inventory.csv\", header=True)"
   ]
  },
  {
   "cell_type": "code",
   "execution_count": 4,
   "metadata": {},
   "outputs": [
    {
     "name": "stdout",
     "output_type": "stream",
     "text": [
      "+------------------+--------------------+----+------+---------------+-----+--------------------+--------------------------+--------------------+-------+-----+\n",
      "|Indicator Category|           Indicator|Year|Gender|Race/ Ethnicity|Value|               Place|BCHC Requested Methodology|              Source|Methods|Notes|\n",
      "+------------------+--------------------+----+------+---------------+-----+--------------------+--------------------------+--------------------+-------+-----+\n",
      "|          HIV/AIDS|AIDS Diagnoses Ra...|2013|  Both|            All| 30.4|Atlanta (Fulton C...|      AIDS cases diagno...|Diagnoses numbers...|   null| null|\n",
      "|          HIV/AIDS|AIDS Diagnoses Ra...|2012|  Both|            All| 39.6|Atlanta (Fulton C...|      AIDS cases diagno...|Diagnoses numbers...|   null| null|\n",
      "|          HIV/AIDS|AIDS Diagnoses Ra...|2011|  Both|            All| 41.7|Atlanta (Fulton C...|      AIDS cases diagno...|Diagnoses numbers...|   null| null|\n",
      "|            Cancer|All Types of Canc...|2013|  Male|            All|195.8|Atlanta (Fulton C...|      2012, 2013, 2014;...|National Center f...|   null| null|\n",
      "|            Cancer|All Types of Canc...|2013|Female|            All|135.5|Atlanta (Fulton C...|      2012, 2013, 2014;...|National Center f...|   null| null|\n",
      "|            Cancer|All Types of Canc...|2013|  Both|            All|159.3|Atlanta (Fulton C...|      2012, 2013, 2014;...|National Center f...|   null| null|\n",
      "|            Cancer|All Types of Canc...|2012|  Male|            All|199.2|Atlanta (Fulton C...|      2012, 2013, 2014;...|National Center f...|   null| null|\n",
      "|            Cancer|All Types of Canc...|2012|Female|            All|137.6|Atlanta (Fulton C...|      2012, 2013, 2014;...|National Center f...|   null| null|\n",
      "|            Cancer|All Types of Canc...|2012|  Both|            All|160.3|Atlanta (Fulton C...|      2012, 2013, 2014;...|National Center f...|   null| null|\n",
      "|            Cancer|All Types of Canc...|2011|  Male|            All|196.2|Atlanta (Fulton C...|      2012, 2013, 2014;...|National Center f...|   null| null|\n",
      "+------------------+--------------------+----+------+---------------+-----+--------------------+--------------------------+--------------------+-------+-----+\n",
      "only showing top 10 rows\n",
      "\n"
     ]
    }
   ],
   "source": [
    "df.show(10)"
   ]
  },
  {
   "cell_type": "markdown",
   "metadata": {},
   "source": [
    "<H3>Printing Schema"
   ]
  },
  {
   "cell_type": "code",
   "execution_count": 5,
   "metadata": {},
   "outputs": [
    {
     "name": "stdout",
     "output_type": "stream",
     "text": [
      "root\n",
      " |-- Indicator Category: string (nullable = true)\n",
      " |-- Indicator: string (nullable = true)\n",
      " |-- Year: string (nullable = true)\n",
      " |-- Gender: string (nullable = true)\n",
      " |-- Race/ Ethnicity: string (nullable = true)\n",
      " |-- Value: string (nullable = true)\n",
      " |-- Place: string (nullable = true)\n",
      " |-- BCHC Requested Methodology: string (nullable = true)\n",
      " |-- Source: string (nullable = true)\n",
      " |-- Methods: string (nullable = true)\n",
      " |-- Notes: string (nullable = true)\n",
      "\n"
     ]
    }
   ],
   "source": [
    "df.printSchema()"
   ]
  },
  {
   "cell_type": "markdown",
   "metadata": {},
   "source": [
    "<H3>Dropping Unwanted Columns"
   ]
  },
  {
   "cell_type": "code",
   "execution_count": 6,
   "metadata": {},
   "outputs": [],
   "source": [
    "df = df.drop(\"Notes\", \"Methods\", \"Source\", \"BCHC Requested Methodology\")"
   ]
  },
  {
   "cell_type": "code",
   "execution_count": 7,
   "metadata": {},
   "outputs": [
    {
     "name": "stdout",
     "output_type": "stream",
     "text": [
      "root\n",
      " |-- Indicator Category: string (nullable = true)\n",
      " |-- Indicator: string (nullable = true)\n",
      " |-- Year: string (nullable = true)\n",
      " |-- Gender: string (nullable = true)\n",
      " |-- Race/ Ethnicity: string (nullable = true)\n",
      " |-- Value: string (nullable = true)\n",
      " |-- Place: string (nullable = true)\n",
      "\n"
     ]
    }
   ],
   "source": [
    "df.printSchema()"
   ]
  },
  {
   "cell_type": "markdown",
   "metadata": {},
   "source": [
    "<H3>Counting Null Values"
   ]
  },
  {
   "cell_type": "code",
   "execution_count": 8,
   "metadata": {},
   "outputs": [
    {
     "name": "stdout",
     "output_type": "stream",
     "text": [
      "+------------------+---------+----+------+---------------+-----+-----+\n",
      "|Indicator Category|Indicator|Year|Gender|Race/ Ethnicity|Value|Place|\n",
      "+------------------+---------+----+------+---------------+-----+-----+\n",
      "|                 0|       28|  28|   218|            212|  231|  218|\n",
      "+------------------+---------+----+------+---------------+-----+-----+\n",
      "\n"
     ]
    }
   ],
   "source": [
    "df.select([F.count(F.when(F.isnan(c) | F.col(c).isNull(), c)).alias(c) for c in df.columns]).show()"
   ]
  },
  {
   "cell_type": "markdown",
   "metadata": {},
   "source": [
    "Since there are several null values in the columns as shown in the table above, first steps would be to remove / replace null values in each column"
   ]
  },
  {
   "cell_type": "markdown",
   "metadata": {},
   "source": [
    "<H3>Working with Null Values"
   ]
  },
  {
   "cell_type": "code",
   "execution_count": 9,
   "metadata": {},
   "outputs": [
    {
     "name": "stdout",
     "output_type": "stream",
     "text": [
      "+--------------------+---------+----+------+---------------+-----+-----+\n",
      "|  Indicator Category|Indicator|Year|Gender|Race/ Ethnicity|Value|Place|\n",
      "+--------------------+---------+----+------+---------------+-----+-----+\n",
      "| FOR THE POPULATI...|     null|null|  null|           null| null| null|\n",
      "|  12 MONTHS (S1701)\"|     null|null|  null|           null| null| null|\n",
      "|            (S1701)\"|     null|null|  null|           null| null| null|\n",
      "|            (S1701)\"|     null|null|  null|           null| null| null|\n",
      "|from the flu shot...|     null|null|  null|           null| null| null|\n",
      "|from the flu shot...|     null|null|  null|           null| null| null|\n",
      "|from the flu shot...|     null|null|  null|           null| null| null|\n",
      "|from the flu shot...|     null|null|  null|           null| null| null|\n",
      "|from the flu shot...|     null|null|  null|           null| null| null|\n",
      "|from the flu shot...|     null|null|  null|           null| null| null|\n",
      "|from the flu shot...|     null|null|  null|           null| null| null|\n",
      "|(percent of respo...|     null|null|  null|           null| null| null|\n",
      "|(percent of respo...|     null|null|  null|           null| null| null|\n",
      "|(percent of respo...|     null|null|  null|           null| null| null|\n",
      "|      your nose?\"\" \"|     null|null|  null|           null| null| null|\n",
      "|      your nose?\"\" \"|     null|null|  null|           null| null| null|\n",
      "|      your nose?\"\" \"|     null|null|  null|           null| null| null|\n",
      "|      your nose?\"\" \"|     null|null|  null|           null| null| null|\n",
      "|      your nose?\"\" \"|     null|null|  null|           null| null| null|\n",
      "|      your nose?\"\" \"|     null|null|  null|           null| null| null|\n",
      "|      your nose?\"\" \"|     null|null|  null|           null| null| null|\n",
      "|(percent of respo...|     null|null|  null|           null| null| null|\n",
      "|(see note above a...|     null|null|  null|           null| null| null|\n",
      "|(see note above a...|     null|null|  null|           null| null| null|\n",
      "|(see note above a...|     null|null|  null|           null| null| null|\n",
      "|(see note above a...|     null|null|  null|           null| null| null|\n",
      "|(see note above a...|     null|null|  null|           null| null| null|\n",
      "|(see note above a...|     null|null|  null|           null| null| null|\n",
      "+--------------------+---------+----+------+---------------+-----+-----+\n",
      "\n"
     ]
    }
   ],
   "source": [
    "df.filter(df[\"Indicator\"].isNull()).show(28)"
   ]
  },
  {
   "cell_type": "markdown",
   "metadata": {},
   "source": [
    "Since all the rows that have null values in Indicator have null values for other columns like Year, Gender, Race and etc, it would be better to remove these observations"
   ]
  },
  {
   "cell_type": "code",
   "execution_count": 10,
   "metadata": {},
   "outputs": [
    {
     "name": "stdout",
     "output_type": "stream",
     "text": [
      "Total number of rows before deleting:  13730\n"
     ]
    }
   ],
   "source": [
    "# Counting total number of rows in the dataset to compare with the rows after null value rows are removed.\n",
    "rows_count_pre = df.count()\n",
    "print(\"Total number of rows before deleting: \",rows_count_pre)"
   ]
  },
  {
   "cell_type": "code",
   "execution_count": 11,
   "metadata": {},
   "outputs": [],
   "source": [
    "# deleting all the rows where there are null values in the columns mentioned below\n",
    "df = df.na.drop(subset=[\"Indicator\", \"Year\", \"Gender\", \"Race/ Ethnicity\", \"Value\", \"Place\"])"
   ]
  },
  {
   "cell_type": "code",
   "execution_count": 12,
   "metadata": {},
   "outputs": [
    {
     "name": "stdout",
     "output_type": "stream",
     "text": [
      "Total number of rows after deleting:  13499\n"
     ]
    }
   ],
   "source": [
    "rows_count_post = df.count()\n",
    "print(\"Total number of rows after deleting: \",rows_count_post)"
   ]
  },
  {
   "cell_type": "code",
   "execution_count": 13,
   "metadata": {},
   "outputs": [
    {
     "name": "stdout",
     "output_type": "stream",
     "text": [
      "Total number of rows deleted:  231\n"
     ]
    }
   ],
   "source": [
    "total_rows_removed = rows_count_pre - rows_count_post\n",
    "print(\"Total number of rows deleted: \", total_rows_removed)"
   ]
  },
  {
   "cell_type": "code",
   "execution_count": 14,
   "metadata": {},
   "outputs": [
    {
     "name": "stdout",
     "output_type": "stream",
     "text": [
      "+------------------+---------+----+------+---------------+-----+-----+\n",
      "|Indicator Category|Indicator|Year|Gender|Race/ Ethnicity|Value|Place|\n",
      "+------------------+---------+----+------+---------------+-----+-----+\n",
      "|                 0|        0|   0|     0|              0|    0|    0|\n",
      "+------------------+---------+----+------+---------------+-----+-----+\n",
      "\n"
     ]
    }
   ],
   "source": [
    "#Checking the null values again to see if the dataset is clean\n",
    "df.select([F.count(F.when(F.isnan(c) | F.col(c).isNull(), c)).alias(c) for c in df.columns]).show()"
   ]
  },
  {
   "cell_type": "markdown",
   "metadata": {},
   "source": [
    "The results above show that all the rows with null values have been deleted from the dataset. This completes the step of removing all the null values from the dataset"
   ]
  },
  {
   "cell_type": "markdown",
   "metadata": {},
   "source": [
    "<H3>Splitting the Place Column into City and State Columns"
   ]
  },
  {
   "cell_type": "code",
   "execution_count": 15,
   "metadata": {},
   "outputs": [
    {
     "name": "stdout",
     "output_type": "stream",
     "text": [
      "+-----------------------+-----+\n",
      "|City_County            |State|\n",
      "+-----------------------+-----+\n",
      "|Atlanta (Fulton County)| GA  |\n",
      "|Atlanta (Fulton County)| GA  |\n",
      "|Atlanta (Fulton County)| GA  |\n",
      "|Atlanta (Fulton County)| GA  |\n",
      "|Atlanta (Fulton County)| GA  |\n",
      "|Atlanta (Fulton County)| GA  |\n",
      "|Atlanta (Fulton County)| GA  |\n",
      "|Atlanta (Fulton County)| GA  |\n",
      "|Atlanta (Fulton County)| GA  |\n",
      "|Atlanta (Fulton County)| GA  |\n",
      "|Atlanta (Fulton County)| GA  |\n",
      "|Atlanta (Fulton County)| GA  |\n",
      "|Atlanta (Fulton County)| GA  |\n",
      "|Atlanta (Fulton County)| GA  |\n",
      "|Atlanta (Fulton County)| GA  |\n",
      "|Atlanta (Fulton County)| GA  |\n",
      "|Atlanta (Fulton County)| GA  |\n",
      "|Atlanta (Fulton County)| GA  |\n",
      "|Atlanta (Fulton County)| GA  |\n",
      "|Atlanta (Fulton County)| GA  |\n",
      "+-----------------------+-----+\n",
      "only showing top 20 rows\n",
      "\n"
     ]
    }
   ],
   "source": [
    "split_col = F.split(df[\"Place\"], ',')\n",
    "df = df.withColumn(\"City_County\", split_col.getItem(0))\n",
    "df = df.withColumn(\"State\", split_col.getItem(1))\n",
    "df.select(\"City_County\", \"State\").show(truncate=False)"
   ]
  },
  {
   "cell_type": "code",
   "execution_count": null,
   "metadata": {},
   "outputs": [],
   "source": [
    "Creating a User Defined Function to take care of the City_County column to extract the city. Same can be done using"
   ]
  },
  {
   "cell_type": "code",
   "execution_count": 16,
   "metadata": {},
   "outputs": [],
   "source": [
    "import re\n",
    "def extract_city(city_str):\n",
    "    result = re.sub(r'\\([^)]*\\)', '', city_str)\n",
    "    return result"
   ]
  },
  {
   "cell_type": "code",
   "execution_count": 17,
   "metadata": {},
   "outputs": [
    {
     "name": "stdout",
     "output_type": "stream",
     "text": [
      "+--------+-----+\n",
      "|City    |State|\n",
      "+--------+-----+\n",
      "|Atlanta | GA  |\n",
      "|Atlanta | GA  |\n",
      "|Atlanta | GA  |\n",
      "|Atlanta | GA  |\n",
      "|Atlanta | GA  |\n",
      "|Atlanta | GA  |\n",
      "|Atlanta | GA  |\n",
      "|Atlanta | GA  |\n",
      "|Atlanta | GA  |\n",
      "|Atlanta | GA  |\n",
      "|Atlanta | GA  |\n",
      "|Atlanta | GA  |\n",
      "|Atlanta | GA  |\n",
      "|Atlanta | GA  |\n",
      "|Atlanta | GA  |\n",
      "|Atlanta | GA  |\n",
      "|Atlanta | GA  |\n",
      "|Atlanta | GA  |\n",
      "|Atlanta | GA  |\n",
      "|Atlanta | GA  |\n",
      "+--------+-----+\n",
      "only showing top 20 rows\n",
      "\n"
     ]
    }
   ],
   "source": [
    "from pyspark.sql.types import StringType\n",
    "udfExtract = F.udf(extract_city, StringType())\n",
    "df = df.withColumn(\"City\", udfExtract(df[\"City_County\"]))\n",
    "df.select(\"City\", \"State\").show(truncate=False)"
   ]
  },
  {
   "cell_type": "markdown",
   "metadata": {},
   "source": [
    "This sums up the cleaning process of data using PySpark. Below is the final state of the dataset"
   ]
  },
  {
   "cell_type": "code",
   "execution_count": 27,
   "metadata": {},
   "outputs": [
    {
     "name": "stdout",
     "output_type": "stream",
     "text": [
      "+--------------------+--------------------+----+------+---------------+-----+--------------------+--------------------+-----+--------+\n",
      "|  Indicator Category|           Indicator|Year|Gender|Race/ Ethnicity|Value|               Place|         City_County|State|    City|\n",
      "+--------------------+--------------------+----+------+---------------+-----+--------------------+--------------------+-----+--------+\n",
      "|            HIV/AIDS|AIDS Diagnoses Ra...|2013|  Both|            All| 30.4|Atlanta (Fulton C...|Atlanta (Fulton C...|   GA|Atlanta |\n",
      "|            HIV/AIDS|AIDS Diagnoses Ra...|2012|  Both|            All| 39.6|Atlanta (Fulton C...|Atlanta (Fulton C...|   GA|Atlanta |\n",
      "|            HIV/AIDS|AIDS Diagnoses Ra...|2011|  Both|            All| 41.7|Atlanta (Fulton C...|Atlanta (Fulton C...|   GA|Atlanta |\n",
      "|              Cancer|All Types of Canc...|2013|  Male|            All|195.8|Atlanta (Fulton C...|Atlanta (Fulton C...|   GA|Atlanta |\n",
      "|              Cancer|All Types of Canc...|2013|Female|            All|135.5|Atlanta (Fulton C...|Atlanta (Fulton C...|   GA|Atlanta |\n",
      "|              Cancer|All Types of Canc...|2013|  Both|            All|159.3|Atlanta (Fulton C...|Atlanta (Fulton C...|   GA|Atlanta |\n",
      "|              Cancer|All Types of Canc...|2012|  Male|            All|199.2|Atlanta (Fulton C...|Atlanta (Fulton C...|   GA|Atlanta |\n",
      "|              Cancer|All Types of Canc...|2012|Female|            All|137.6|Atlanta (Fulton C...|Atlanta (Fulton C...|   GA|Atlanta |\n",
      "|              Cancer|All Types of Canc...|2012|  Both|            All|160.3|Atlanta (Fulton C...|Atlanta (Fulton C...|   GA|Atlanta |\n",
      "|              Cancer|All Types of Canc...|2011|  Male|            All|196.2|Atlanta (Fulton C...|Atlanta (Fulton C...|   GA|Atlanta |\n",
      "|              Cancer|All Types of Canc...|2011|Female|            All|147.0|Atlanta (Fulton C...|Atlanta (Fulton C...|   GA|Atlanta |\n",
      "|              Cancer|All Types of Canc...|2011|  Both|            All|165.2|Atlanta (Fulton C...|Atlanta (Fulton C...|   GA|Atlanta |\n",
      "|              Cancer|All Types of Canc...|2013|  Both|          Black|208.3|Atlanta (Fulton C...|Atlanta (Fulton C...|   GA|Atlanta |\n",
      "|              Cancer|All Types of Canc...|2012|  Both|          Black|202.7|Atlanta (Fulton C...|Atlanta (Fulton C...|   GA|Atlanta |\n",
      "|Maternal and Chil...|Infant Mortality ...|2012|  Both|          White|  4.5|Atlanta (Fulton C...|Atlanta (Fulton C...|   GA|Atlanta |\n",
      "|              Cancer|All Types of Canc...|2011|  Both|          Black|216.0|Atlanta (Fulton C...|Atlanta (Fulton C...|   GA|Atlanta |\n",
      "|              Cancer|All Types of Canc...|2013|  Both|          White|128.8|Atlanta (Fulton C...|Atlanta (Fulton C...|   GA|Atlanta |\n",
      "|              Cancer|All Types of Canc...|2012|  Both|          White|133.7|Atlanta (Fulton C...|Atlanta (Fulton C...|   GA|Atlanta |\n",
      "|              Cancer|All Types of Canc...|2011|  Both|          White|132.0|Atlanta (Fulton C...|Atlanta (Fulton C...|   GA|Atlanta |\n",
      "|Life Expectancy a...|All-Cause Mortali...|2012|Female|            All|578.4|Atlanta (Fulton C...|Atlanta (Fulton C...|   GA|Atlanta |\n",
      "+--------------------+--------------------+----+------+---------------+-----+--------------------+--------------------+-----+--------+\n",
      "only showing top 20 rows\n",
      "\n"
     ]
    }
   ],
   "source": [
    "df.show()"
   ]
  },
  {
   "cell_type": "code",
   "execution_count": null,
   "metadata": {},
   "outputs": [],
   "source": []
  }
 ],
 "metadata": {
  "kernelspec": {
   "display_name": "Python 3",
   "language": "python",
   "name": "python3"
  },
  "language_info": {
   "codemirror_mode": {
    "name": "ipython",
    "version": 3
   },
   "file_extension": ".py",
   "mimetype": "text/x-python",
   "name": "python",
   "nbconvert_exporter": "python",
   "pygments_lexer": "ipython3",
   "version": "3.7.6"
  }
 },
 "nbformat": 4,
 "nbformat_minor": 4
}
